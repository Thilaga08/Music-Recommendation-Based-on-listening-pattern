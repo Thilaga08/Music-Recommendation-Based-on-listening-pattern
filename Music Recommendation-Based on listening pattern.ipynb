{
 "cells": [
  {
   "cell_type": "markdown",
   "id": "cc54f746",
   "metadata": {},
   "source": [
    "### Music Recommendation:\n",
    "\n",
    "Music recommender system can suggest songs to users based on their listening pattern."
   ]
  },
  {
   "cell_type": "markdown",
   "id": "0e914801",
   "metadata": {},
   "source": [
    "#### Author: Thilagavathy R Vasantharaja"
   ]
  },
  {
   "cell_type": "markdown",
   "id": "d4b8064a",
   "metadata": {},
   "source": [
    "#### 1.Loading Libraries"
   ]
  },
  {
   "cell_type": "code",
   "execution_count": 3,
   "id": "5e6eb8fd",
   "metadata": {},
   "outputs": [
    {
     "name": "stdout",
     "output_type": "stream",
     "text": [
      "Collecting xgboost\n",
      "  Downloading xgboost-1.4.2-py3-none-win_amd64.whl (97.8 MB)\n",
      "Requirement already satisfied: numpy in c:\\users\\vasanth\\anaconda3\\lib\\site-packages (from xgboost) (1.19.5)\n",
      "Requirement already satisfied: scipy in c:\\users\\vasanth\\anaconda3\\lib\\site-packages (from xgboost) (1.6.2)\n",
      "Installing collected packages: xgboost\n",
      "Successfully installed xgboost-1.4.2\n"
     ]
    }
   ],
   "source": [
    "! pip install xgboost"
   ]
  },
  {
   "cell_type": "code",
   "execution_count": 65,
   "id": "ac096aa0",
   "metadata": {},
   "outputs": [],
   "source": [
    "#from sklearn import cross_validation, grid_search, metrics, ensemble\n",
    "from sklearn.model_selection import train_test_split\n",
    "import xgboost as xgb\n",
    "import numpy as np\n",
    "import pandas as pd\n",
    "import seaborn as sns\n",
    "import matplotlib.pyplot as plt\n",
    "import matplotlib as mpl\n",
    "import warnings\n",
    "warnings.filterwarnings('ignore')\n",
    "plt.style.use('ggplot')"
   ]
  },
  {
   "cell_type": "markdown",
   "id": "53270afb",
   "metadata": {},
   "source": [
    "#### 2.Data Preparation"
   ]
  },
  {
   "cell_type": "code",
   "execution_count": 66,
   "id": "cf86371b",
   "metadata": {
    "scrolled": true
   },
   "outputs": [
    {
     "data": {
      "text/plain": [
       "'C:\\\\Users\\\\vasanth\\\\Desktop\\\\Anaconda1\\\\Anaconda\\\\Internship\\\\LetsGrowMore\\\\kkbox-music-recommendation-challenge'"
      ]
     },
     "execution_count": 66,
     "metadata": {},
     "output_type": "execute_result"
    }
   ],
   "source": [
    "import os\n",
    "os.getcwd()"
   ]
  },
  {
   "cell_type": "code",
   "execution_count": 69,
   "id": "c53568f2",
   "metadata": {},
   "outputs": [
    {
     "name": "stdout",
     "output_type": "stream",
     "text": [
      "train (7377418, 6)\n",
      "test (2556790, 6)\n",
      "members (34403, 7)\n",
      "songs (2296320, 7)\n"
     ]
    }
   ],
   "source": [
    "train = pd.read_csv('train.csv')\n",
    "test=pd.read_csv(\"test.csv\")\n",
    "members=pd.read_csv(\"members.csv\")\n",
    "songs=pd.read_csv(\"songs.csv\")\n",
    "print('train',train.shape)\n",
    "print('test',test.shape)\n",
    "print('members',members.shape)\n",
    "print('songs',songs.shape)"
   ]
  },
  {
   "cell_type": "markdown",
   "id": "b9246a2f",
   "metadata": {},
   "source": [
    "#### 3.Understanding data"
   ]
  },
  {
   "cell_type": "code",
   "execution_count": 7,
   "id": "78ed10c7",
   "metadata": {},
   "outputs": [
    {
     "data": {
      "text/html": [
       "<div>\n",
       "<style scoped>\n",
       "    .dataframe tbody tr th:only-of-type {\n",
       "        vertical-align: middle;\n",
       "    }\n",
       "\n",
       "    .dataframe tbody tr th {\n",
       "        vertical-align: top;\n",
       "    }\n",
       "\n",
       "    .dataframe thead th {\n",
       "        text-align: right;\n",
       "    }\n",
       "</style>\n",
       "<table border=\"1\" class=\"dataframe\">\n",
       "  <thead>\n",
       "    <tr style=\"text-align: right;\">\n",
       "      <th></th>\n",
       "      <th>msno</th>\n",
       "      <th>song_id</th>\n",
       "      <th>source_system_tab</th>\n",
       "      <th>source_screen_name</th>\n",
       "      <th>source_type</th>\n",
       "      <th>target</th>\n",
       "    </tr>\n",
       "  </thead>\n",
       "  <tbody>\n",
       "    <tr>\n",
       "      <th>0</th>\n",
       "      <td>FGtllVqz18RPiwJj/edr2gV78zirAiY/9SmYvia+kCg=</td>\n",
       "      <td>BBzumQNXUHKdEBOB7mAJuzok+IJA1c2Ryg/yzTF6tik=</td>\n",
       "      <td>explore</td>\n",
       "      <td>Explore</td>\n",
       "      <td>online-playlist</td>\n",
       "      <td>1</td>\n",
       "    </tr>\n",
       "    <tr>\n",
       "      <th>1</th>\n",
       "      <td>Xumu+NIjS6QYVxDS4/t3SawvJ7viT9hPKXmf0RtLNx8=</td>\n",
       "      <td>bhp/MpSNoqoxOIB+/l8WPqu6jldth4DIpCm3ayXnJqM=</td>\n",
       "      <td>my library</td>\n",
       "      <td>Local playlist more</td>\n",
       "      <td>local-playlist</td>\n",
       "      <td>1</td>\n",
       "    </tr>\n",
       "    <tr>\n",
       "      <th>2</th>\n",
       "      <td>Xumu+NIjS6QYVxDS4/t3SawvJ7viT9hPKXmf0RtLNx8=</td>\n",
       "      <td>JNWfrrC7zNN7BdMpsISKa4Mw+xVJYNnxXh3/Epw7QgY=</td>\n",
       "      <td>my library</td>\n",
       "      <td>Local playlist more</td>\n",
       "      <td>local-playlist</td>\n",
       "      <td>1</td>\n",
       "    </tr>\n",
       "    <tr>\n",
       "      <th>3</th>\n",
       "      <td>Xumu+NIjS6QYVxDS4/t3SawvJ7viT9hPKXmf0RtLNx8=</td>\n",
       "      <td>2A87tzfnJTSWqD7gIZHisolhe4DMdzkbd6LzO1KHjNs=</td>\n",
       "      <td>my library</td>\n",
       "      <td>Local playlist more</td>\n",
       "      <td>local-playlist</td>\n",
       "      <td>1</td>\n",
       "    </tr>\n",
       "    <tr>\n",
       "      <th>4</th>\n",
       "      <td>FGtllVqz18RPiwJj/edr2gV78zirAiY/9SmYvia+kCg=</td>\n",
       "      <td>3qm6XTZ6MOCU11x8FIVbAGH5l5uMkT3/ZalWG1oo2Gc=</td>\n",
       "      <td>explore</td>\n",
       "      <td>Explore</td>\n",
       "      <td>online-playlist</td>\n",
       "      <td>1</td>\n",
       "    </tr>\n",
       "  </tbody>\n",
       "</table>\n",
       "</div>"
      ],
      "text/plain": [
       "                                           msno  \\\n",
       "0  FGtllVqz18RPiwJj/edr2gV78zirAiY/9SmYvia+kCg=   \n",
       "1  Xumu+NIjS6QYVxDS4/t3SawvJ7viT9hPKXmf0RtLNx8=   \n",
       "2  Xumu+NIjS6QYVxDS4/t3SawvJ7viT9hPKXmf0RtLNx8=   \n",
       "3  Xumu+NIjS6QYVxDS4/t3SawvJ7viT9hPKXmf0RtLNx8=   \n",
       "4  FGtllVqz18RPiwJj/edr2gV78zirAiY/9SmYvia+kCg=   \n",
       "\n",
       "                                        song_id source_system_tab  \\\n",
       "0  BBzumQNXUHKdEBOB7mAJuzok+IJA1c2Ryg/yzTF6tik=           explore   \n",
       "1  bhp/MpSNoqoxOIB+/l8WPqu6jldth4DIpCm3ayXnJqM=        my library   \n",
       "2  JNWfrrC7zNN7BdMpsISKa4Mw+xVJYNnxXh3/Epw7QgY=        my library   \n",
       "3  2A87tzfnJTSWqD7gIZHisolhe4DMdzkbd6LzO1KHjNs=        my library   \n",
       "4  3qm6XTZ6MOCU11x8FIVbAGH5l5uMkT3/ZalWG1oo2Gc=           explore   \n",
       "\n",
       "    source_screen_name      source_type  target  \n",
       "0              Explore  online-playlist       1  \n",
       "1  Local playlist more   local-playlist       1  \n",
       "2  Local playlist more   local-playlist       1  \n",
       "3  Local playlist more   local-playlist       1  \n",
       "4              Explore  online-playlist       1  "
      ]
     },
     "execution_count": 7,
     "metadata": {},
     "output_type": "execute_result"
    }
   ],
   "source": [
    "train.head()"
   ]
  },
  {
   "cell_type": "code",
   "execution_count": 8,
   "id": "218c5b94",
   "metadata": {},
   "outputs": [
    {
     "data": {
      "text/html": [
       "<div>\n",
       "<style scoped>\n",
       "    .dataframe tbody tr th:only-of-type {\n",
       "        vertical-align: middle;\n",
       "    }\n",
       "\n",
       "    .dataframe tbody tr th {\n",
       "        vertical-align: top;\n",
       "    }\n",
       "\n",
       "    .dataframe thead th {\n",
       "        text-align: right;\n",
       "    }\n",
       "</style>\n",
       "<table border=\"1\" class=\"dataframe\">\n",
       "  <thead>\n",
       "    <tr style=\"text-align: right;\">\n",
       "      <th></th>\n",
       "      <th>msno</th>\n",
       "      <th>city</th>\n",
       "      <th>bd</th>\n",
       "      <th>gender</th>\n",
       "      <th>registered_via</th>\n",
       "      <th>registration_init_time</th>\n",
       "      <th>expiration_date</th>\n",
       "    </tr>\n",
       "  </thead>\n",
       "  <tbody>\n",
       "    <tr>\n",
       "      <th>0</th>\n",
       "      <td>XQxgAYj3klVKjR3oxPPXYYFp4soD4TuBghkhMTD4oTw=</td>\n",
       "      <td>1</td>\n",
       "      <td>0</td>\n",
       "      <td>NaN</td>\n",
       "      <td>7</td>\n",
       "      <td>20110820</td>\n",
       "      <td>20170920</td>\n",
       "    </tr>\n",
       "    <tr>\n",
       "      <th>1</th>\n",
       "      <td>UizsfmJb9mV54qE9hCYyU07Va97c0lCRLEQX3ae+ztM=</td>\n",
       "      <td>1</td>\n",
       "      <td>0</td>\n",
       "      <td>NaN</td>\n",
       "      <td>7</td>\n",
       "      <td>20150628</td>\n",
       "      <td>20170622</td>\n",
       "    </tr>\n",
       "    <tr>\n",
       "      <th>2</th>\n",
       "      <td>D8nEhsIOBSoE6VthTaqDX8U6lqjJ7dLdr72mOyLya2A=</td>\n",
       "      <td>1</td>\n",
       "      <td>0</td>\n",
       "      <td>NaN</td>\n",
       "      <td>4</td>\n",
       "      <td>20160411</td>\n",
       "      <td>20170712</td>\n",
       "    </tr>\n",
       "    <tr>\n",
       "      <th>3</th>\n",
       "      <td>mCuD+tZ1hERA/o5GPqk38e041J8ZsBaLcu7nGoIIvhI=</td>\n",
       "      <td>1</td>\n",
       "      <td>0</td>\n",
       "      <td>NaN</td>\n",
       "      <td>9</td>\n",
       "      <td>20150906</td>\n",
       "      <td>20150907</td>\n",
       "    </tr>\n",
       "    <tr>\n",
       "      <th>4</th>\n",
       "      <td>q4HRBfVSssAFS9iRfxWrohxuk9kCYMKjHOEagUMV6rQ=</td>\n",
       "      <td>1</td>\n",
       "      <td>0</td>\n",
       "      <td>NaN</td>\n",
       "      <td>4</td>\n",
       "      <td>20170126</td>\n",
       "      <td>20170613</td>\n",
       "    </tr>\n",
       "  </tbody>\n",
       "</table>\n",
       "</div>"
      ],
      "text/plain": [
       "                                           msno  city  bd gender  \\\n",
       "0  XQxgAYj3klVKjR3oxPPXYYFp4soD4TuBghkhMTD4oTw=     1   0    NaN   \n",
       "1  UizsfmJb9mV54qE9hCYyU07Va97c0lCRLEQX3ae+ztM=     1   0    NaN   \n",
       "2  D8nEhsIOBSoE6VthTaqDX8U6lqjJ7dLdr72mOyLya2A=     1   0    NaN   \n",
       "3  mCuD+tZ1hERA/o5GPqk38e041J8ZsBaLcu7nGoIIvhI=     1   0    NaN   \n",
       "4  q4HRBfVSssAFS9iRfxWrohxuk9kCYMKjHOEagUMV6rQ=     1   0    NaN   \n",
       "\n",
       "   registered_via  registration_init_time  expiration_date  \n",
       "0               7                20110820         20170920  \n",
       "1               7                20150628         20170622  \n",
       "2               4                20160411         20170712  \n",
       "3               9                20150906         20150907  \n",
       "4               4                20170126         20170613  "
      ]
     },
     "execution_count": 8,
     "metadata": {},
     "output_type": "execute_result"
    }
   ],
   "source": [
    "members.head()"
   ]
  },
  {
   "cell_type": "code",
   "execution_count": 9,
   "id": "fbec1bfd",
   "metadata": {},
   "outputs": [
    {
     "data": {
      "text/html": [
       "<div>\n",
       "<style scoped>\n",
       "    .dataframe tbody tr th:only-of-type {\n",
       "        vertical-align: middle;\n",
       "    }\n",
       "\n",
       "    .dataframe tbody tr th {\n",
       "        vertical-align: top;\n",
       "    }\n",
       "\n",
       "    .dataframe thead th {\n",
       "        text-align: right;\n",
       "    }\n",
       "</style>\n",
       "<table border=\"1\" class=\"dataframe\">\n",
       "  <thead>\n",
       "    <tr style=\"text-align: right;\">\n",
       "      <th></th>\n",
       "      <th>song_id</th>\n",
       "      <th>song_length</th>\n",
       "      <th>genre_ids</th>\n",
       "      <th>artist_name</th>\n",
       "      <th>composer</th>\n",
       "      <th>lyricist</th>\n",
       "      <th>language</th>\n",
       "    </tr>\n",
       "  </thead>\n",
       "  <tbody>\n",
       "    <tr>\n",
       "      <th>0</th>\n",
       "      <td>CXoTN1eb7AI+DntdU1vbcwGRV4SCIDxZu+YD8JP8r4E=</td>\n",
       "      <td>247640</td>\n",
       "      <td>465</td>\n",
       "      <td>張信哲 (Jeff Chang)</td>\n",
       "      <td>董貞</td>\n",
       "      <td>何啟弘</td>\n",
       "      <td>3.0</td>\n",
       "    </tr>\n",
       "    <tr>\n",
       "      <th>1</th>\n",
       "      <td>o0kFgae9QtnYgRkVPqLJwa05zIhRlUjfF7O1tDw0ZDU=</td>\n",
       "      <td>197328</td>\n",
       "      <td>444</td>\n",
       "      <td>BLACKPINK</td>\n",
       "      <td>TEDDY|  FUTURE BOUNCE|  Bekuh BOOM</td>\n",
       "      <td>TEDDY</td>\n",
       "      <td>31.0</td>\n",
       "    </tr>\n",
       "    <tr>\n",
       "      <th>2</th>\n",
       "      <td>DwVvVurfpuz+XPuFvucclVQEyPqcpUkHR0ne1RQzPs0=</td>\n",
       "      <td>231781</td>\n",
       "      <td>465</td>\n",
       "      <td>SUPER JUNIOR</td>\n",
       "      <td>NaN</td>\n",
       "      <td>NaN</td>\n",
       "      <td>31.0</td>\n",
       "    </tr>\n",
       "    <tr>\n",
       "      <th>3</th>\n",
       "      <td>dKMBWoZyScdxSkihKG+Vf47nc18N9q4m58+b4e7dSSE=</td>\n",
       "      <td>273554</td>\n",
       "      <td>465</td>\n",
       "      <td>S.H.E</td>\n",
       "      <td>湯小康</td>\n",
       "      <td>徐世珍</td>\n",
       "      <td>3.0</td>\n",
       "    </tr>\n",
       "    <tr>\n",
       "      <th>4</th>\n",
       "      <td>W3bqWd3T+VeHFzHAUfARgW9AvVRaF4N5Yzm4Mr6Eo/o=</td>\n",
       "      <td>140329</td>\n",
       "      <td>726</td>\n",
       "      <td>貴族精選</td>\n",
       "      <td>Traditional</td>\n",
       "      <td>Traditional</td>\n",
       "      <td>52.0</td>\n",
       "    </tr>\n",
       "  </tbody>\n",
       "</table>\n",
       "</div>"
      ],
      "text/plain": [
       "                                        song_id  song_length genre_ids  \\\n",
       "0  CXoTN1eb7AI+DntdU1vbcwGRV4SCIDxZu+YD8JP8r4E=       247640       465   \n",
       "1  o0kFgae9QtnYgRkVPqLJwa05zIhRlUjfF7O1tDw0ZDU=       197328       444   \n",
       "2  DwVvVurfpuz+XPuFvucclVQEyPqcpUkHR0ne1RQzPs0=       231781       465   \n",
       "3  dKMBWoZyScdxSkihKG+Vf47nc18N9q4m58+b4e7dSSE=       273554       465   \n",
       "4  W3bqWd3T+VeHFzHAUfARgW9AvVRaF4N5Yzm4Mr6Eo/o=       140329       726   \n",
       "\n",
       "        artist_name                            composer     lyricist  language  \n",
       "0  張信哲 (Jeff Chang)                                  董貞          何啟弘       3.0  \n",
       "1         BLACKPINK  TEDDY|  FUTURE BOUNCE|  Bekuh BOOM        TEDDY      31.0  \n",
       "2      SUPER JUNIOR                                 NaN          NaN      31.0  \n",
       "3             S.H.E                                 湯小康          徐世珍       3.0  \n",
       "4              貴族精選                         Traditional  Traditional      52.0  "
      ]
     },
     "execution_count": 9,
     "metadata": {},
     "output_type": "execute_result"
    }
   ],
   "source": [
    "songs.head()"
   ]
  },
  {
   "cell_type": "code",
   "execution_count": 10,
   "id": "8549d846",
   "metadata": {},
   "outputs": [
    {
     "data": {
      "text/html": [
       "<div>\n",
       "<style scoped>\n",
       "    .dataframe tbody tr th:only-of-type {\n",
       "        vertical-align: middle;\n",
       "    }\n",
       "\n",
       "    .dataframe tbody tr th {\n",
       "        vertical-align: top;\n",
       "    }\n",
       "\n",
       "    .dataframe thead th {\n",
       "        text-align: right;\n",
       "    }\n",
       "</style>\n",
       "<table border=\"1\" class=\"dataframe\">\n",
       "  <thead>\n",
       "    <tr style=\"text-align: right;\">\n",
       "      <th></th>\n",
       "      <th>id</th>\n",
       "      <th>msno</th>\n",
       "      <th>song_id</th>\n",
       "      <th>source_system_tab</th>\n",
       "      <th>source_screen_name</th>\n",
       "      <th>source_type</th>\n",
       "    </tr>\n",
       "  </thead>\n",
       "  <tbody>\n",
       "    <tr>\n",
       "      <th>0</th>\n",
       "      <td>0</td>\n",
       "      <td>V8ruy7SGk7tDm3zA51DPpn6qutt+vmKMBKa21dp54uM=</td>\n",
       "      <td>WmHKgKMlp1lQMecNdNvDMkvIycZYHnFwDT72I5sIssc=</td>\n",
       "      <td>my library</td>\n",
       "      <td>Local playlist more</td>\n",
       "      <td>local-library</td>\n",
       "    </tr>\n",
       "    <tr>\n",
       "      <th>1</th>\n",
       "      <td>1</td>\n",
       "      <td>V8ruy7SGk7tDm3zA51DPpn6qutt+vmKMBKa21dp54uM=</td>\n",
       "      <td>y/rsZ9DC7FwK5F2PK2D5mj+aOBUJAjuu3dZ14NgE0vM=</td>\n",
       "      <td>my library</td>\n",
       "      <td>Local playlist more</td>\n",
       "      <td>local-library</td>\n",
       "    </tr>\n",
       "    <tr>\n",
       "      <th>2</th>\n",
       "      <td>2</td>\n",
       "      <td>/uQAlrAkaczV+nWCd2sPF2ekvXPRipV7q0l+gbLuxjw=</td>\n",
       "      <td>8eZLFOdGVdXBSqoAv5nsLigeH2BvKXzTQYtUM53I0k4=</td>\n",
       "      <td>discover</td>\n",
       "      <td>NaN</td>\n",
       "      <td>song-based-playlist</td>\n",
       "    </tr>\n",
       "    <tr>\n",
       "      <th>3</th>\n",
       "      <td>3</td>\n",
       "      <td>1a6oo/iXKatxQx4eS9zTVD+KlSVaAFbTIqVvwLC1Y0k=</td>\n",
       "      <td>ztCf8thYsS4YN3GcIL/bvoxLm/T5mYBVKOO4C9NiVfQ=</td>\n",
       "      <td>radio</td>\n",
       "      <td>Radio</td>\n",
       "      <td>radio</td>\n",
       "    </tr>\n",
       "    <tr>\n",
       "      <th>4</th>\n",
       "      <td>4</td>\n",
       "      <td>1a6oo/iXKatxQx4eS9zTVD+KlSVaAFbTIqVvwLC1Y0k=</td>\n",
       "      <td>MKVMpslKcQhMaFEgcEQhEfi5+RZhMYlU3eRDpySrH8Y=</td>\n",
       "      <td>radio</td>\n",
       "      <td>Radio</td>\n",
       "      <td>radio</td>\n",
       "    </tr>\n",
       "  </tbody>\n",
       "</table>\n",
       "</div>"
      ],
      "text/plain": [
       "   id                                          msno  \\\n",
       "0   0  V8ruy7SGk7tDm3zA51DPpn6qutt+vmKMBKa21dp54uM=   \n",
       "1   1  V8ruy7SGk7tDm3zA51DPpn6qutt+vmKMBKa21dp54uM=   \n",
       "2   2  /uQAlrAkaczV+nWCd2sPF2ekvXPRipV7q0l+gbLuxjw=   \n",
       "3   3  1a6oo/iXKatxQx4eS9zTVD+KlSVaAFbTIqVvwLC1Y0k=   \n",
       "4   4  1a6oo/iXKatxQx4eS9zTVD+KlSVaAFbTIqVvwLC1Y0k=   \n",
       "\n",
       "                                        song_id source_system_tab  \\\n",
       "0  WmHKgKMlp1lQMecNdNvDMkvIycZYHnFwDT72I5sIssc=        my library   \n",
       "1  y/rsZ9DC7FwK5F2PK2D5mj+aOBUJAjuu3dZ14NgE0vM=        my library   \n",
       "2  8eZLFOdGVdXBSqoAv5nsLigeH2BvKXzTQYtUM53I0k4=          discover   \n",
       "3  ztCf8thYsS4YN3GcIL/bvoxLm/T5mYBVKOO4C9NiVfQ=             radio   \n",
       "4  MKVMpslKcQhMaFEgcEQhEfi5+RZhMYlU3eRDpySrH8Y=             radio   \n",
       "\n",
       "    source_screen_name          source_type  \n",
       "0  Local playlist more        local-library  \n",
       "1  Local playlist more        local-library  \n",
       "2                  NaN  song-based-playlist  \n",
       "3                Radio                radio  \n",
       "4                Radio                radio  "
      ]
     },
     "execution_count": 10,
     "metadata": {},
     "output_type": "execute_result"
    }
   ],
   "source": [
    "test.head()"
   ]
  },
  {
   "cell_type": "markdown",
   "id": "90d71bc7",
   "metadata": {},
   "source": [
    "#### 4. Data Pre-processing"
   ]
  },
  {
   "cell_type": "code",
   "execution_count": 70,
   "id": "eda84f6c",
   "metadata": {},
   "outputs": [],
   "source": [
    "# 1% sample of items\n",
    "train = train.sample(frac=0.01)"
   ]
  },
  {
   "cell_type": "code",
   "execution_count": 12,
   "id": "3cae2cb8",
   "metadata": {},
   "outputs": [
    {
     "data": {
      "text/plain": [
       "(73774, 6)"
      ]
     },
     "execution_count": 12,
     "metadata": {},
     "output_type": "execute_result"
    }
   ],
   "source": [
    "train.shape"
   ]
  },
  {
   "cell_type": "code",
   "execution_count": 71,
   "id": "297e6ca8",
   "metadata": {},
   "outputs": [],
   "source": [
    "train = pd.merge(train, songs, on='song_id', how='left')"
   ]
  },
  {
   "cell_type": "code",
   "execution_count": 14,
   "id": "3a4e4773",
   "metadata": {},
   "outputs": [
    {
     "data": {
      "text/plain": [
       "(73774, 12)"
      ]
     },
     "execution_count": 14,
     "metadata": {},
     "output_type": "execute_result"
    }
   ],
   "source": [
    "train.shape"
   ]
  },
  {
   "cell_type": "code",
   "execution_count": 15,
   "id": "e79ab5fd",
   "metadata": {},
   "outputs": [
    {
     "data": {
      "text/html": [
       "<div>\n",
       "<style scoped>\n",
       "    .dataframe tbody tr th:only-of-type {\n",
       "        vertical-align: middle;\n",
       "    }\n",
       "\n",
       "    .dataframe tbody tr th {\n",
       "        vertical-align: top;\n",
       "    }\n",
       "\n",
       "    .dataframe thead th {\n",
       "        text-align: right;\n",
       "    }\n",
       "</style>\n",
       "<table border=\"1\" class=\"dataframe\">\n",
       "  <thead>\n",
       "    <tr style=\"text-align: right;\">\n",
       "      <th></th>\n",
       "      <th>msno</th>\n",
       "      <th>song_id</th>\n",
       "      <th>source_system_tab</th>\n",
       "      <th>source_screen_name</th>\n",
       "      <th>source_type</th>\n",
       "      <th>target</th>\n",
       "      <th>song_length</th>\n",
       "      <th>genre_ids</th>\n",
       "      <th>artist_name</th>\n",
       "      <th>composer</th>\n",
       "      <th>lyricist</th>\n",
       "      <th>language</th>\n",
       "    </tr>\n",
       "  </thead>\n",
       "  <tbody>\n",
       "    <tr>\n",
       "      <th>0</th>\n",
       "      <td>x1staqrE1JMIUlvyEVgMYgDfZhlTGfpA3qtPSj+N77g=</td>\n",
       "      <td>Q6wyMBLeQj7nW5AjGjdB9tsO1k7773SUHUtQVUjEd+o=</td>\n",
       "      <td>my library</td>\n",
       "      <td>Local playlist more</td>\n",
       "      <td>local-library</td>\n",
       "      <td>0</td>\n",
       "      <td>270419</td>\n",
       "      <td>465</td>\n",
       "      <td>蔡依林 (Jolin Tsai)</td>\n",
       "      <td>NaN</td>\n",
       "      <td>NaN</td>\n",
       "      <td>3.0</td>\n",
       "    </tr>\n",
       "    <tr>\n",
       "      <th>1</th>\n",
       "      <td>vb2J2H2GlF6ensG79o/Gdnku4AqJ4OyBdvDzRrjgnd8=</td>\n",
       "      <td>vzlTBFqyEx7EhM4XyC+nJeuQ8GNauvoRcsfCITlm4SQ=</td>\n",
       "      <td>my library</td>\n",
       "      <td>Local playlist more</td>\n",
       "      <td>local-library</td>\n",
       "      <td>1</td>\n",
       "      <td>247104</td>\n",
       "      <td>2157</td>\n",
       "      <td>喬幼</td>\n",
       "      <td>石國人</td>\n",
       "      <td>石國人</td>\n",
       "      <td>10.0</td>\n",
       "    </tr>\n",
       "    <tr>\n",
       "      <th>2</th>\n",
       "      <td>wzpHtitt7fkUvmazi47+pvhxURlLo3vFPojqFUHGT6w=</td>\n",
       "      <td>EfJnvKhjaAl7I2+OAkPzFIq/FBvBjZurEKr4VGViqj4=</td>\n",
       "      <td>my library</td>\n",
       "      <td>Online playlist more</td>\n",
       "      <td>online-playlist</td>\n",
       "      <td>0</td>\n",
       "      <td>203049</td>\n",
       "      <td>921</td>\n",
       "      <td>Baek A Yeon</td>\n",
       "      <td>Tablo| Tukutz| Conan| Roco</td>\n",
       "      <td>Tablo| Mithra| Ji Hoon| Goo Ji An</td>\n",
       "      <td>31.0</td>\n",
       "    </tr>\n",
       "    <tr>\n",
       "      <th>3</th>\n",
       "      <td>mDUAZS/nBqo4A/FmrPg8vCoATNMmdzsfFcVf3qhG2fQ=</td>\n",
       "      <td>T8EzYq0+Zfa4ckPP5CE9I9Q4haed0cM0YgFaUpbz6i0=</td>\n",
       "      <td>radio</td>\n",
       "      <td>Radio</td>\n",
       "      <td>radio</td>\n",
       "      <td>0</td>\n",
       "      <td>141479</td>\n",
       "      <td>786</td>\n",
       "      <td>Jim Brickman</td>\n",
       "      <td>NaN</td>\n",
       "      <td>NaN</td>\n",
       "      <td>-1.0</td>\n",
       "    </tr>\n",
       "    <tr>\n",
       "      <th>4</th>\n",
       "      <td>CYb4RkfFA6c2hTfrymGqHECXGPS4cCor0pbWWzIJtaA=</td>\n",
       "      <td>6JV5IxQMWfhlXN8bvWKUaj9HzB0wuHkU3dEgf4JxOBY=</td>\n",
       "      <td>my library</td>\n",
       "      <td>Local playlist more</td>\n",
       "      <td>local-library</td>\n",
       "      <td>1</td>\n",
       "      <td>280137</td>\n",
       "      <td>921</td>\n",
       "      <td>張宇 (Phil Chang)</td>\n",
       "      <td>NaN</td>\n",
       "      <td>NaN</td>\n",
       "      <td>3.0</td>\n",
       "    </tr>\n",
       "  </tbody>\n",
       "</table>\n",
       "</div>"
      ],
      "text/plain": [
       "                                           msno  \\\n",
       "0  x1staqrE1JMIUlvyEVgMYgDfZhlTGfpA3qtPSj+N77g=   \n",
       "1  vb2J2H2GlF6ensG79o/Gdnku4AqJ4OyBdvDzRrjgnd8=   \n",
       "2  wzpHtitt7fkUvmazi47+pvhxURlLo3vFPojqFUHGT6w=   \n",
       "3  mDUAZS/nBqo4A/FmrPg8vCoATNMmdzsfFcVf3qhG2fQ=   \n",
       "4  CYb4RkfFA6c2hTfrymGqHECXGPS4cCor0pbWWzIJtaA=   \n",
       "\n",
       "                                        song_id source_system_tab  \\\n",
       "0  Q6wyMBLeQj7nW5AjGjdB9tsO1k7773SUHUtQVUjEd+o=        my library   \n",
       "1  vzlTBFqyEx7EhM4XyC+nJeuQ8GNauvoRcsfCITlm4SQ=        my library   \n",
       "2  EfJnvKhjaAl7I2+OAkPzFIq/FBvBjZurEKr4VGViqj4=        my library   \n",
       "3  T8EzYq0+Zfa4ckPP5CE9I9Q4haed0cM0YgFaUpbz6i0=             radio   \n",
       "4  6JV5IxQMWfhlXN8bvWKUaj9HzB0wuHkU3dEgf4JxOBY=        my library   \n",
       "\n",
       "     source_screen_name      source_type  target  song_length genre_ids  \\\n",
       "0   Local playlist more    local-library       0       270419       465   \n",
       "1   Local playlist more    local-library       1       247104      2157   \n",
       "2  Online playlist more  online-playlist       0       203049       921   \n",
       "3                 Radio            radio       0       141479       786   \n",
       "4   Local playlist more    local-library       1       280137       921   \n",
       "\n",
       "        artist_name                    composer  \\\n",
       "0  蔡依林 (Jolin Tsai)                         NaN   \n",
       "1                喬幼                         石國人   \n",
       "2       Baek A Yeon  Tablo| Tukutz| Conan| Roco   \n",
       "3      Jim Brickman                         NaN   \n",
       "4   張宇 (Phil Chang)                         NaN   \n",
       "\n",
       "                            lyricist  language  \n",
       "0                                NaN       3.0  \n",
       "1                                石國人      10.0  \n",
       "2  Tablo| Mithra| Ji Hoon| Goo Ji An      31.0  \n",
       "3                                NaN      -1.0  \n",
       "4                                NaN       3.0  "
      ]
     },
     "execution_count": 15,
     "metadata": {},
     "output_type": "execute_result"
    }
   ],
   "source": [
    "train.head()"
   ]
  },
  {
   "cell_type": "code",
   "execution_count": 72,
   "id": "51bab1e9",
   "metadata": {},
   "outputs": [],
   "source": [
    "train = pd.merge(train, members, on='msno', how='left')"
   ]
  },
  {
   "cell_type": "code",
   "execution_count": 17,
   "id": "0ad87b47",
   "metadata": {},
   "outputs": [
    {
     "data": {
      "text/plain": [
       "(73774, 18)"
      ]
     },
     "execution_count": 17,
     "metadata": {},
     "output_type": "execute_result"
    }
   ],
   "source": [
    "train.shape"
   ]
  },
  {
   "cell_type": "code",
   "execution_count": 18,
   "id": "f24d0ee2",
   "metadata": {},
   "outputs": [
    {
     "data": {
      "text/html": [
       "<div>\n",
       "<style scoped>\n",
       "    .dataframe tbody tr th:only-of-type {\n",
       "        vertical-align: middle;\n",
       "    }\n",
       "\n",
       "    .dataframe tbody tr th {\n",
       "        vertical-align: top;\n",
       "    }\n",
       "\n",
       "    .dataframe thead th {\n",
       "        text-align: right;\n",
       "    }\n",
       "</style>\n",
       "<table border=\"1\" class=\"dataframe\">\n",
       "  <thead>\n",
       "    <tr style=\"text-align: right;\">\n",
       "      <th></th>\n",
       "      <th>msno</th>\n",
       "      <th>song_id</th>\n",
       "      <th>source_system_tab</th>\n",
       "      <th>source_screen_name</th>\n",
       "      <th>source_type</th>\n",
       "      <th>target</th>\n",
       "      <th>song_length</th>\n",
       "      <th>genre_ids</th>\n",
       "      <th>artist_name</th>\n",
       "      <th>composer</th>\n",
       "      <th>lyricist</th>\n",
       "      <th>language</th>\n",
       "      <th>city</th>\n",
       "      <th>bd</th>\n",
       "      <th>gender</th>\n",
       "      <th>registered_via</th>\n",
       "      <th>registration_init_time</th>\n",
       "      <th>expiration_date</th>\n",
       "    </tr>\n",
       "  </thead>\n",
       "  <tbody>\n",
       "    <tr>\n",
       "      <th>0</th>\n",
       "      <td>x1staqrE1JMIUlvyEVgMYgDfZhlTGfpA3qtPSj+N77g=</td>\n",
       "      <td>Q6wyMBLeQj7nW5AjGjdB9tsO1k7773SUHUtQVUjEd+o=</td>\n",
       "      <td>my library</td>\n",
       "      <td>Local playlist more</td>\n",
       "      <td>local-library</td>\n",
       "      <td>0</td>\n",
       "      <td>270419</td>\n",
       "      <td>465</td>\n",
       "      <td>蔡依林 (Jolin Tsai)</td>\n",
       "      <td>NaN</td>\n",
       "      <td>NaN</td>\n",
       "      <td>3.0</td>\n",
       "      <td>1</td>\n",
       "      <td>16</td>\n",
       "      <td>NaN</td>\n",
       "      <td>9</td>\n",
       "      <td>20170103</td>\n",
       "      <td>20171231</td>\n",
       "    </tr>\n",
       "    <tr>\n",
       "      <th>1</th>\n",
       "      <td>vb2J2H2GlF6ensG79o/Gdnku4AqJ4OyBdvDzRrjgnd8=</td>\n",
       "      <td>vzlTBFqyEx7EhM4XyC+nJeuQ8GNauvoRcsfCITlm4SQ=</td>\n",
       "      <td>my library</td>\n",
       "      <td>Local playlist more</td>\n",
       "      <td>local-library</td>\n",
       "      <td>1</td>\n",
       "      <td>247104</td>\n",
       "      <td>2157</td>\n",
       "      <td>喬幼</td>\n",
       "      <td>石國人</td>\n",
       "      <td>石國人</td>\n",
       "      <td>10.0</td>\n",
       "      <td>13</td>\n",
       "      <td>25</td>\n",
       "      <td>female</td>\n",
       "      <td>9</td>\n",
       "      <td>20121121</td>\n",
       "      <td>20170815</td>\n",
       "    </tr>\n",
       "    <tr>\n",
       "      <th>2</th>\n",
       "      <td>wzpHtitt7fkUvmazi47+pvhxURlLo3vFPojqFUHGT6w=</td>\n",
       "      <td>EfJnvKhjaAl7I2+OAkPzFIq/FBvBjZurEKr4VGViqj4=</td>\n",
       "      <td>my library</td>\n",
       "      <td>Online playlist more</td>\n",
       "      <td>online-playlist</td>\n",
       "      <td>0</td>\n",
       "      <td>203049</td>\n",
       "      <td>921</td>\n",
       "      <td>Baek A Yeon</td>\n",
       "      <td>Tablo| Tukutz| Conan| Roco</td>\n",
       "      <td>Tablo| Mithra| Ji Hoon| Goo Ji An</td>\n",
       "      <td>31.0</td>\n",
       "      <td>15</td>\n",
       "      <td>0</td>\n",
       "      <td>NaN</td>\n",
       "      <td>9</td>\n",
       "      <td>20160312</td>\n",
       "      <td>20170617</td>\n",
       "    </tr>\n",
       "    <tr>\n",
       "      <th>3</th>\n",
       "      <td>mDUAZS/nBqo4A/FmrPg8vCoATNMmdzsfFcVf3qhG2fQ=</td>\n",
       "      <td>T8EzYq0+Zfa4ckPP5CE9I9Q4haed0cM0YgFaUpbz6i0=</td>\n",
       "      <td>radio</td>\n",
       "      <td>Radio</td>\n",
       "      <td>radio</td>\n",
       "      <td>0</td>\n",
       "      <td>141479</td>\n",
       "      <td>786</td>\n",
       "      <td>Jim Brickman</td>\n",
       "      <td>NaN</td>\n",
       "      <td>NaN</td>\n",
       "      <td>-1.0</td>\n",
       "      <td>6</td>\n",
       "      <td>21</td>\n",
       "      <td>male</td>\n",
       "      <td>9</td>\n",
       "      <td>20130919</td>\n",
       "      <td>20171026</td>\n",
       "    </tr>\n",
       "    <tr>\n",
       "      <th>4</th>\n",
       "      <td>CYb4RkfFA6c2hTfrymGqHECXGPS4cCor0pbWWzIJtaA=</td>\n",
       "      <td>6JV5IxQMWfhlXN8bvWKUaj9HzB0wuHkU3dEgf4JxOBY=</td>\n",
       "      <td>my library</td>\n",
       "      <td>Local playlist more</td>\n",
       "      <td>local-library</td>\n",
       "      <td>1</td>\n",
       "      <td>280137</td>\n",
       "      <td>921</td>\n",
       "      <td>張宇 (Phil Chang)</td>\n",
       "      <td>NaN</td>\n",
       "      <td>NaN</td>\n",
       "      <td>3.0</td>\n",
       "      <td>13</td>\n",
       "      <td>18</td>\n",
       "      <td>female</td>\n",
       "      <td>13</td>\n",
       "      <td>20161127</td>\n",
       "      <td>20171023</td>\n",
       "    </tr>\n",
       "  </tbody>\n",
       "</table>\n",
       "</div>"
      ],
      "text/plain": [
       "                                           msno  \\\n",
       "0  x1staqrE1JMIUlvyEVgMYgDfZhlTGfpA3qtPSj+N77g=   \n",
       "1  vb2J2H2GlF6ensG79o/Gdnku4AqJ4OyBdvDzRrjgnd8=   \n",
       "2  wzpHtitt7fkUvmazi47+pvhxURlLo3vFPojqFUHGT6w=   \n",
       "3  mDUAZS/nBqo4A/FmrPg8vCoATNMmdzsfFcVf3qhG2fQ=   \n",
       "4  CYb4RkfFA6c2hTfrymGqHECXGPS4cCor0pbWWzIJtaA=   \n",
       "\n",
       "                                        song_id source_system_tab  \\\n",
       "0  Q6wyMBLeQj7nW5AjGjdB9tsO1k7773SUHUtQVUjEd+o=        my library   \n",
       "1  vzlTBFqyEx7EhM4XyC+nJeuQ8GNauvoRcsfCITlm4SQ=        my library   \n",
       "2  EfJnvKhjaAl7I2+OAkPzFIq/FBvBjZurEKr4VGViqj4=        my library   \n",
       "3  T8EzYq0+Zfa4ckPP5CE9I9Q4haed0cM0YgFaUpbz6i0=             radio   \n",
       "4  6JV5IxQMWfhlXN8bvWKUaj9HzB0wuHkU3dEgf4JxOBY=        my library   \n",
       "\n",
       "     source_screen_name      source_type  target  song_length genre_ids  \\\n",
       "0   Local playlist more    local-library       0       270419       465   \n",
       "1   Local playlist more    local-library       1       247104      2157   \n",
       "2  Online playlist more  online-playlist       0       203049       921   \n",
       "3                 Radio            radio       0       141479       786   \n",
       "4   Local playlist more    local-library       1       280137       921   \n",
       "\n",
       "        artist_name                    composer  \\\n",
       "0  蔡依林 (Jolin Tsai)                         NaN   \n",
       "1                喬幼                         石國人   \n",
       "2       Baek A Yeon  Tablo| Tukutz| Conan| Roco   \n",
       "3      Jim Brickman                         NaN   \n",
       "4   張宇 (Phil Chang)                         NaN   \n",
       "\n",
       "                            lyricist  language  city  bd  gender  \\\n",
       "0                                NaN       3.0     1  16     NaN   \n",
       "1                                石國人      10.0    13  25  female   \n",
       "2  Tablo| Mithra| Ji Hoon| Goo Ji An      31.0    15   0     NaN   \n",
       "3                                NaN      -1.0     6  21    male   \n",
       "4                                NaN       3.0    13  18  female   \n",
       "\n",
       "   registered_via  registration_init_time  expiration_date  \n",
       "0               9                20170103         20171231  \n",
       "1               9                20121121         20170815  \n",
       "2               9                20160312         20170617  \n",
       "3               9                20130919         20171026  \n",
       "4              13                20161127         20171023  "
      ]
     },
     "execution_count": 18,
     "metadata": {},
     "output_type": "execute_result"
    }
   ],
   "source": [
    "train.head()"
   ]
  },
  {
   "cell_type": "code",
   "execution_count": 19,
   "id": "d51d1c6e",
   "metadata": {},
   "outputs": [
    {
     "name": "stdout",
     "output_type": "stream",
     "text": [
      "<class 'pandas.core.frame.DataFrame'>\n",
      "Int64Index: 73774 entries, 0 to 73773\n",
      "Data columns (total 18 columns):\n",
      " #   Column                  Non-Null Count  Dtype  \n",
      "---  ------                  --------------  -----  \n",
      " 0   msno                    73774 non-null  object \n",
      " 1   song_id                 73774 non-null  object \n",
      " 2   source_system_tab       73551 non-null  object \n",
      " 3   source_screen_name      69640 non-null  object \n",
      " 4   source_type             73585 non-null  object \n",
      " 5   target                  73774 non-null  int64  \n",
      " 6   song_length             73774 non-null  int64  \n",
      " 7   genre_ids               72562 non-null  object \n",
      " 8   artist_name             73774 non-null  object \n",
      " 9   composer                56929 non-null  object \n",
      " 10  lyricist                41798 non-null  object \n",
      " 11  language                73773 non-null  float64\n",
      " 12  city                    73774 non-null  int64  \n",
      " 13  bd                      73774 non-null  int64  \n",
      " 14  gender                  44320 non-null  object \n",
      " 15  registered_via          73774 non-null  int64  \n",
      " 16  registration_init_time  73774 non-null  int64  \n",
      " 17  expiration_date         73774 non-null  int64  \n",
      "dtypes: float64(1), int64(7), object(10)\n",
      "memory usage: 10.7+ MB\n"
     ]
    }
   ],
   "source": [
    "train.info()"
   ]
  },
  {
   "cell_type": "code",
   "execution_count": 73,
   "id": "f9bb96b9",
   "metadata": {},
   "outputs": [
    {
     "data": {
      "text/plain": [
       "msno                       0.000000\n",
       "song_id                    0.000000\n",
       "source_system_tab          0.363272\n",
       "source_screen_name         5.671375\n",
       "source_type                0.299564\n",
       "target                     0.000000\n",
       "song_length                0.000000\n",
       "genre_ids                  1.591347\n",
       "artist_name                0.000000\n",
       "composer                  22.606880\n",
       "lyricist                  42.874183\n",
       "language                   0.000000\n",
       "city                       0.000000\n",
       "bd                         0.000000\n",
       "gender                    40.153713\n",
       "registered_via             0.000000\n",
       "registration_init_time     0.000000\n",
       "expiration_date            0.000000\n",
       "dtype: float64"
      ]
     },
     "execution_count": 73,
     "metadata": {},
     "output_type": "execute_result"
    }
   ],
   "source": [
    "# Count Na in %\n",
    "train.isnull().sum()/train.isnull().count()*100"
   ]
  },
  {
   "cell_type": "code",
   "execution_count": 74,
   "id": "250116bf",
   "metadata": {},
   "outputs": [],
   "source": [
    "# Replace NA\n",
    "for i in train.select_dtypes(include=['object']).columns:\n",
    "    train[i][train[i].isnull()] = 'unknown'\n",
    "train = train.fillna(value=0)"
   ]
  },
  {
   "cell_type": "markdown",
   "id": "952114f3",
   "metadata": {},
   "source": [
    "#### Changing date format"
   ]
  },
  {
   "cell_type": "code",
   "execution_count": 75,
   "id": "2970c88d",
   "metadata": {},
   "outputs": [],
   "source": [
    "\n",
    "# registration_init_time\n",
    "train.registration_init_time = pd.to_datetime(train.registration_init_time, format='%Y%m%d', errors='ignore')\n",
    "train['registration_init_time_year'] = train['registration_init_time'].dt.year\n",
    "train['registration_init_time_month'] = train['registration_init_time'].dt.month\n",
    "train['registration_init_time_day'] = train['registration_init_time'].dt.day\n",
    "\n",
    "# expiration_date\n",
    "train.expiration_date = pd.to_datetime(train.expiration_date,  format='%Y%m%d', errors='ignore')\n",
    "train['expiration_date_year'] = train['expiration_date'].dt.year\n",
    "train['expiration_date_month'] = train['expiration_date'].dt.month\n",
    "train['expiration_date_day'] = train['expiration_date'].dt.day"
   ]
  },
  {
   "cell_type": "code",
   "execution_count": 23,
   "id": "a10fa5fa",
   "metadata": {},
   "outputs": [
    {
     "data": {
      "text/html": [
       "<div>\n",
       "<style scoped>\n",
       "    .dataframe tbody tr th:only-of-type {\n",
       "        vertical-align: middle;\n",
       "    }\n",
       "\n",
       "    .dataframe tbody tr th {\n",
       "        vertical-align: top;\n",
       "    }\n",
       "\n",
       "    .dataframe thead th {\n",
       "        text-align: right;\n",
       "    }\n",
       "</style>\n",
       "<table border=\"1\" class=\"dataframe\">\n",
       "  <thead>\n",
       "    <tr style=\"text-align: right;\">\n",
       "      <th></th>\n",
       "      <th>msno</th>\n",
       "      <th>song_id</th>\n",
       "      <th>source_system_tab</th>\n",
       "      <th>source_screen_name</th>\n",
       "      <th>source_type</th>\n",
       "      <th>target</th>\n",
       "      <th>song_length</th>\n",
       "      <th>genre_ids</th>\n",
       "      <th>artist_name</th>\n",
       "      <th>composer</th>\n",
       "      <th>...</th>\n",
       "      <th>gender</th>\n",
       "      <th>registered_via</th>\n",
       "      <th>registration_init_time</th>\n",
       "      <th>expiration_date</th>\n",
       "      <th>registration_init_time_year</th>\n",
       "      <th>registration_init_time_month</th>\n",
       "      <th>registration_init_time_day</th>\n",
       "      <th>expiration_date_year</th>\n",
       "      <th>expiration_date_month</th>\n",
       "      <th>expiration_date_day</th>\n",
       "    </tr>\n",
       "  </thead>\n",
       "  <tbody>\n",
       "    <tr>\n",
       "      <th>0</th>\n",
       "      <td>x1staqrE1JMIUlvyEVgMYgDfZhlTGfpA3qtPSj+N77g=</td>\n",
       "      <td>Q6wyMBLeQj7nW5AjGjdB9tsO1k7773SUHUtQVUjEd+o=</td>\n",
       "      <td>my library</td>\n",
       "      <td>Local playlist more</td>\n",
       "      <td>local-library</td>\n",
       "      <td>0</td>\n",
       "      <td>270419</td>\n",
       "      <td>465</td>\n",
       "      <td>蔡依林 (Jolin Tsai)</td>\n",
       "      <td>unknown</td>\n",
       "      <td>...</td>\n",
       "      <td>unknown</td>\n",
       "      <td>9</td>\n",
       "      <td>2017-01-03</td>\n",
       "      <td>2017-12-31</td>\n",
       "      <td>2017</td>\n",
       "      <td>1</td>\n",
       "      <td>3</td>\n",
       "      <td>2017</td>\n",
       "      <td>12</td>\n",
       "      <td>31</td>\n",
       "    </tr>\n",
       "    <tr>\n",
       "      <th>1</th>\n",
       "      <td>vb2J2H2GlF6ensG79o/Gdnku4AqJ4OyBdvDzRrjgnd8=</td>\n",
       "      <td>vzlTBFqyEx7EhM4XyC+nJeuQ8GNauvoRcsfCITlm4SQ=</td>\n",
       "      <td>my library</td>\n",
       "      <td>Local playlist more</td>\n",
       "      <td>local-library</td>\n",
       "      <td>1</td>\n",
       "      <td>247104</td>\n",
       "      <td>2157</td>\n",
       "      <td>喬幼</td>\n",
       "      <td>石國人</td>\n",
       "      <td>...</td>\n",
       "      <td>female</td>\n",
       "      <td>9</td>\n",
       "      <td>2012-11-21</td>\n",
       "      <td>2017-08-15</td>\n",
       "      <td>2012</td>\n",
       "      <td>11</td>\n",
       "      <td>21</td>\n",
       "      <td>2017</td>\n",
       "      <td>8</td>\n",
       "      <td>15</td>\n",
       "    </tr>\n",
       "    <tr>\n",
       "      <th>2</th>\n",
       "      <td>wzpHtitt7fkUvmazi47+pvhxURlLo3vFPojqFUHGT6w=</td>\n",
       "      <td>EfJnvKhjaAl7I2+OAkPzFIq/FBvBjZurEKr4VGViqj4=</td>\n",
       "      <td>my library</td>\n",
       "      <td>Online playlist more</td>\n",
       "      <td>online-playlist</td>\n",
       "      <td>0</td>\n",
       "      <td>203049</td>\n",
       "      <td>921</td>\n",
       "      <td>Baek A Yeon</td>\n",
       "      <td>Tablo| Tukutz| Conan| Roco</td>\n",
       "      <td>...</td>\n",
       "      <td>unknown</td>\n",
       "      <td>9</td>\n",
       "      <td>2016-03-12</td>\n",
       "      <td>2017-06-17</td>\n",
       "      <td>2016</td>\n",
       "      <td>3</td>\n",
       "      <td>12</td>\n",
       "      <td>2017</td>\n",
       "      <td>6</td>\n",
       "      <td>17</td>\n",
       "    </tr>\n",
       "    <tr>\n",
       "      <th>3</th>\n",
       "      <td>mDUAZS/nBqo4A/FmrPg8vCoATNMmdzsfFcVf3qhG2fQ=</td>\n",
       "      <td>T8EzYq0+Zfa4ckPP5CE9I9Q4haed0cM0YgFaUpbz6i0=</td>\n",
       "      <td>radio</td>\n",
       "      <td>Radio</td>\n",
       "      <td>radio</td>\n",
       "      <td>0</td>\n",
       "      <td>141479</td>\n",
       "      <td>786</td>\n",
       "      <td>Jim Brickman</td>\n",
       "      <td>unknown</td>\n",
       "      <td>...</td>\n",
       "      <td>male</td>\n",
       "      <td>9</td>\n",
       "      <td>2013-09-19</td>\n",
       "      <td>2017-10-26</td>\n",
       "      <td>2013</td>\n",
       "      <td>9</td>\n",
       "      <td>19</td>\n",
       "      <td>2017</td>\n",
       "      <td>10</td>\n",
       "      <td>26</td>\n",
       "    </tr>\n",
       "    <tr>\n",
       "      <th>4</th>\n",
       "      <td>CYb4RkfFA6c2hTfrymGqHECXGPS4cCor0pbWWzIJtaA=</td>\n",
       "      <td>6JV5IxQMWfhlXN8bvWKUaj9HzB0wuHkU3dEgf4JxOBY=</td>\n",
       "      <td>my library</td>\n",
       "      <td>Local playlist more</td>\n",
       "      <td>local-library</td>\n",
       "      <td>1</td>\n",
       "      <td>280137</td>\n",
       "      <td>921</td>\n",
       "      <td>張宇 (Phil Chang)</td>\n",
       "      <td>unknown</td>\n",
       "      <td>...</td>\n",
       "      <td>female</td>\n",
       "      <td>13</td>\n",
       "      <td>2016-11-27</td>\n",
       "      <td>2017-10-23</td>\n",
       "      <td>2016</td>\n",
       "      <td>11</td>\n",
       "      <td>27</td>\n",
       "      <td>2017</td>\n",
       "      <td>10</td>\n",
       "      <td>23</td>\n",
       "    </tr>\n",
       "  </tbody>\n",
       "</table>\n",
       "<p>5 rows × 24 columns</p>\n",
       "</div>"
      ],
      "text/plain": [
       "                                           msno  \\\n",
       "0  x1staqrE1JMIUlvyEVgMYgDfZhlTGfpA3qtPSj+N77g=   \n",
       "1  vb2J2H2GlF6ensG79o/Gdnku4AqJ4OyBdvDzRrjgnd8=   \n",
       "2  wzpHtitt7fkUvmazi47+pvhxURlLo3vFPojqFUHGT6w=   \n",
       "3  mDUAZS/nBqo4A/FmrPg8vCoATNMmdzsfFcVf3qhG2fQ=   \n",
       "4  CYb4RkfFA6c2hTfrymGqHECXGPS4cCor0pbWWzIJtaA=   \n",
       "\n",
       "                                        song_id source_system_tab  \\\n",
       "0  Q6wyMBLeQj7nW5AjGjdB9tsO1k7773SUHUtQVUjEd+o=        my library   \n",
       "1  vzlTBFqyEx7EhM4XyC+nJeuQ8GNauvoRcsfCITlm4SQ=        my library   \n",
       "2  EfJnvKhjaAl7I2+OAkPzFIq/FBvBjZurEKr4VGViqj4=        my library   \n",
       "3  T8EzYq0+Zfa4ckPP5CE9I9Q4haed0cM0YgFaUpbz6i0=             radio   \n",
       "4  6JV5IxQMWfhlXN8bvWKUaj9HzB0wuHkU3dEgf4JxOBY=        my library   \n",
       "\n",
       "     source_screen_name      source_type  target  song_length genre_ids  \\\n",
       "0   Local playlist more    local-library       0       270419       465   \n",
       "1   Local playlist more    local-library       1       247104      2157   \n",
       "2  Online playlist more  online-playlist       0       203049       921   \n",
       "3                 Radio            radio       0       141479       786   \n",
       "4   Local playlist more    local-library       1       280137       921   \n",
       "\n",
       "        artist_name                    composer  ...   gender  registered_via  \\\n",
       "0  蔡依林 (Jolin Tsai)                     unknown  ...  unknown               9   \n",
       "1                喬幼                         石國人  ...   female               9   \n",
       "2       Baek A Yeon  Tablo| Tukutz| Conan| Roco  ...  unknown               9   \n",
       "3      Jim Brickman                     unknown  ...     male               9   \n",
       "4   張宇 (Phil Chang)                     unknown  ...   female              13   \n",
       "\n",
       "   registration_init_time  expiration_date registration_init_time_year  \\\n",
       "0              2017-01-03       2017-12-31                        2017   \n",
       "1              2012-11-21       2017-08-15                        2012   \n",
       "2              2016-03-12       2017-06-17                        2016   \n",
       "3              2013-09-19       2017-10-26                        2013   \n",
       "4              2016-11-27       2017-10-23                        2016   \n",
       "\n",
       "   registration_init_time_month registration_init_time_day  \\\n",
       "0                             1                          3   \n",
       "1                            11                         21   \n",
       "2                             3                         12   \n",
       "3                             9                         19   \n",
       "4                            11                         27   \n",
       "\n",
       "  expiration_date_year  expiration_date_month  expiration_date_day  \n",
       "0                 2017                     12                   31  \n",
       "1                 2017                      8                   15  \n",
       "2                 2017                      6                   17  \n",
       "3                 2017                     10                   26  \n",
       "4                 2017                     10                   23  \n",
       "\n",
       "[5 rows x 24 columns]"
      ]
     },
     "execution_count": 23,
     "metadata": {},
     "output_type": "execute_result"
    }
   ],
   "source": [
    "train.head()"
   ]
  },
  {
   "cell_type": "code",
   "execution_count": 76,
   "id": "43289960",
   "metadata": {},
   "outputs": [],
   "source": [
    "# Changing Dates to category\n",
    "train['registration_init_time'] = train['registration_init_time'].astype('category')\n",
    "train['expiration_date'] = train['expiration_date'].astype('category')"
   ]
  },
  {
   "cell_type": "code",
   "execution_count": 25,
   "id": "6fa44144",
   "metadata": {},
   "outputs": [
    {
     "data": {
      "text/html": [
       "<div>\n",
       "<style scoped>\n",
       "    .dataframe tbody tr th:only-of-type {\n",
       "        vertical-align: middle;\n",
       "    }\n",
       "\n",
       "    .dataframe tbody tr th {\n",
       "        vertical-align: top;\n",
       "    }\n",
       "\n",
       "    .dataframe thead th {\n",
       "        text-align: right;\n",
       "    }\n",
       "</style>\n",
       "<table border=\"1\" class=\"dataframe\">\n",
       "  <thead>\n",
       "    <tr style=\"text-align: right;\">\n",
       "      <th></th>\n",
       "      <th>msno</th>\n",
       "      <th>song_id</th>\n",
       "      <th>source_system_tab</th>\n",
       "      <th>source_screen_name</th>\n",
       "      <th>source_type</th>\n",
       "      <th>target</th>\n",
       "      <th>song_length</th>\n",
       "      <th>genre_ids</th>\n",
       "      <th>artist_name</th>\n",
       "      <th>composer</th>\n",
       "      <th>...</th>\n",
       "      <th>gender</th>\n",
       "      <th>registered_via</th>\n",
       "      <th>registration_init_time</th>\n",
       "      <th>expiration_date</th>\n",
       "      <th>registration_init_time_year</th>\n",
       "      <th>registration_init_time_month</th>\n",
       "      <th>registration_init_time_day</th>\n",
       "      <th>expiration_date_year</th>\n",
       "      <th>expiration_date_month</th>\n",
       "      <th>expiration_date_day</th>\n",
       "    </tr>\n",
       "  </thead>\n",
       "  <tbody>\n",
       "    <tr>\n",
       "      <th>0</th>\n",
       "      <td>x1staqrE1JMIUlvyEVgMYgDfZhlTGfpA3qtPSj+N77g=</td>\n",
       "      <td>Q6wyMBLeQj7nW5AjGjdB9tsO1k7773SUHUtQVUjEd+o=</td>\n",
       "      <td>my library</td>\n",
       "      <td>Local playlist more</td>\n",
       "      <td>local-library</td>\n",
       "      <td>0</td>\n",
       "      <td>270419</td>\n",
       "      <td>465</td>\n",
       "      <td>蔡依林 (Jolin Tsai)</td>\n",
       "      <td>unknown</td>\n",
       "      <td>...</td>\n",
       "      <td>unknown</td>\n",
       "      <td>9</td>\n",
       "      <td>2017-01-03</td>\n",
       "      <td>2017-12-31</td>\n",
       "      <td>2017</td>\n",
       "      <td>1</td>\n",
       "      <td>3</td>\n",
       "      <td>2017</td>\n",
       "      <td>12</td>\n",
       "      <td>31</td>\n",
       "    </tr>\n",
       "    <tr>\n",
       "      <th>1</th>\n",
       "      <td>vb2J2H2GlF6ensG79o/Gdnku4AqJ4OyBdvDzRrjgnd8=</td>\n",
       "      <td>vzlTBFqyEx7EhM4XyC+nJeuQ8GNauvoRcsfCITlm4SQ=</td>\n",
       "      <td>my library</td>\n",
       "      <td>Local playlist more</td>\n",
       "      <td>local-library</td>\n",
       "      <td>1</td>\n",
       "      <td>247104</td>\n",
       "      <td>2157</td>\n",
       "      <td>喬幼</td>\n",
       "      <td>石國人</td>\n",
       "      <td>...</td>\n",
       "      <td>female</td>\n",
       "      <td>9</td>\n",
       "      <td>2012-11-21</td>\n",
       "      <td>2017-08-15</td>\n",
       "      <td>2012</td>\n",
       "      <td>11</td>\n",
       "      <td>21</td>\n",
       "      <td>2017</td>\n",
       "      <td>8</td>\n",
       "      <td>15</td>\n",
       "    </tr>\n",
       "    <tr>\n",
       "      <th>2</th>\n",
       "      <td>wzpHtitt7fkUvmazi47+pvhxURlLo3vFPojqFUHGT6w=</td>\n",
       "      <td>EfJnvKhjaAl7I2+OAkPzFIq/FBvBjZurEKr4VGViqj4=</td>\n",
       "      <td>my library</td>\n",
       "      <td>Online playlist more</td>\n",
       "      <td>online-playlist</td>\n",
       "      <td>0</td>\n",
       "      <td>203049</td>\n",
       "      <td>921</td>\n",
       "      <td>Baek A Yeon</td>\n",
       "      <td>Tablo| Tukutz| Conan| Roco</td>\n",
       "      <td>...</td>\n",
       "      <td>unknown</td>\n",
       "      <td>9</td>\n",
       "      <td>2016-03-12</td>\n",
       "      <td>2017-06-17</td>\n",
       "      <td>2016</td>\n",
       "      <td>3</td>\n",
       "      <td>12</td>\n",
       "      <td>2017</td>\n",
       "      <td>6</td>\n",
       "      <td>17</td>\n",
       "    </tr>\n",
       "    <tr>\n",
       "      <th>3</th>\n",
       "      <td>mDUAZS/nBqo4A/FmrPg8vCoATNMmdzsfFcVf3qhG2fQ=</td>\n",
       "      <td>T8EzYq0+Zfa4ckPP5CE9I9Q4haed0cM0YgFaUpbz6i0=</td>\n",
       "      <td>radio</td>\n",
       "      <td>Radio</td>\n",
       "      <td>radio</td>\n",
       "      <td>0</td>\n",
       "      <td>141479</td>\n",
       "      <td>786</td>\n",
       "      <td>Jim Brickman</td>\n",
       "      <td>unknown</td>\n",
       "      <td>...</td>\n",
       "      <td>male</td>\n",
       "      <td>9</td>\n",
       "      <td>2013-09-19</td>\n",
       "      <td>2017-10-26</td>\n",
       "      <td>2013</td>\n",
       "      <td>9</td>\n",
       "      <td>19</td>\n",
       "      <td>2017</td>\n",
       "      <td>10</td>\n",
       "      <td>26</td>\n",
       "    </tr>\n",
       "    <tr>\n",
       "      <th>4</th>\n",
       "      <td>CYb4RkfFA6c2hTfrymGqHECXGPS4cCor0pbWWzIJtaA=</td>\n",
       "      <td>6JV5IxQMWfhlXN8bvWKUaj9HzB0wuHkU3dEgf4JxOBY=</td>\n",
       "      <td>my library</td>\n",
       "      <td>Local playlist more</td>\n",
       "      <td>local-library</td>\n",
       "      <td>1</td>\n",
       "      <td>280137</td>\n",
       "      <td>921</td>\n",
       "      <td>張宇 (Phil Chang)</td>\n",
       "      <td>unknown</td>\n",
       "      <td>...</td>\n",
       "      <td>female</td>\n",
       "      <td>13</td>\n",
       "      <td>2016-11-27</td>\n",
       "      <td>2017-10-23</td>\n",
       "      <td>2016</td>\n",
       "      <td>11</td>\n",
       "      <td>27</td>\n",
       "      <td>2017</td>\n",
       "      <td>10</td>\n",
       "      <td>23</td>\n",
       "    </tr>\n",
       "  </tbody>\n",
       "</table>\n",
       "<p>5 rows × 24 columns</p>\n",
       "</div>"
      ],
      "text/plain": [
       "                                           msno  \\\n",
       "0  x1staqrE1JMIUlvyEVgMYgDfZhlTGfpA3qtPSj+N77g=   \n",
       "1  vb2J2H2GlF6ensG79o/Gdnku4AqJ4OyBdvDzRrjgnd8=   \n",
       "2  wzpHtitt7fkUvmazi47+pvhxURlLo3vFPojqFUHGT6w=   \n",
       "3  mDUAZS/nBqo4A/FmrPg8vCoATNMmdzsfFcVf3qhG2fQ=   \n",
       "4  CYb4RkfFA6c2hTfrymGqHECXGPS4cCor0pbWWzIJtaA=   \n",
       "\n",
       "                                        song_id source_system_tab  \\\n",
       "0  Q6wyMBLeQj7nW5AjGjdB9tsO1k7773SUHUtQVUjEd+o=        my library   \n",
       "1  vzlTBFqyEx7EhM4XyC+nJeuQ8GNauvoRcsfCITlm4SQ=        my library   \n",
       "2  EfJnvKhjaAl7I2+OAkPzFIq/FBvBjZurEKr4VGViqj4=        my library   \n",
       "3  T8EzYq0+Zfa4ckPP5CE9I9Q4haed0cM0YgFaUpbz6i0=             radio   \n",
       "4  6JV5IxQMWfhlXN8bvWKUaj9HzB0wuHkU3dEgf4JxOBY=        my library   \n",
       "\n",
       "     source_screen_name      source_type  target  song_length genre_ids  \\\n",
       "0   Local playlist more    local-library       0       270419       465   \n",
       "1   Local playlist more    local-library       1       247104      2157   \n",
       "2  Online playlist more  online-playlist       0       203049       921   \n",
       "3                 Radio            radio       0       141479       786   \n",
       "4   Local playlist more    local-library       1       280137       921   \n",
       "\n",
       "        artist_name                    composer  ...   gender  registered_via  \\\n",
       "0  蔡依林 (Jolin Tsai)                     unknown  ...  unknown               9   \n",
       "1                喬幼                         石國人  ...   female               9   \n",
       "2       Baek A Yeon  Tablo| Tukutz| Conan| Roco  ...  unknown               9   \n",
       "3      Jim Brickman                     unknown  ...     male               9   \n",
       "4   張宇 (Phil Chang)                     unknown  ...   female              13   \n",
       "\n",
       "   registration_init_time  expiration_date registration_init_time_year  \\\n",
       "0              2017-01-03       2017-12-31                        2017   \n",
       "1              2012-11-21       2017-08-15                        2012   \n",
       "2              2016-03-12       2017-06-17                        2016   \n",
       "3              2013-09-19       2017-10-26                        2013   \n",
       "4              2016-11-27       2017-10-23                        2016   \n",
       "\n",
       "   registration_init_time_month registration_init_time_day  \\\n",
       "0                             1                          3   \n",
       "1                            11                         21   \n",
       "2                             3                         12   \n",
       "3                             9                         19   \n",
       "4                            11                         27   \n",
       "\n",
       "  expiration_date_year  expiration_date_month  expiration_date_day  \n",
       "0                 2017                     12                   31  \n",
       "1                 2017                      8                   15  \n",
       "2                 2017                      6                   17  \n",
       "3                 2017                     10                   26  \n",
       "4                 2017                     10                   23  \n",
       "\n",
       "[5 rows x 24 columns]"
      ]
     },
     "execution_count": 25,
     "metadata": {},
     "output_type": "execute_result"
    }
   ],
   "source": [
    "train.head()"
   ]
  },
  {
   "cell_type": "code",
   "execution_count": 26,
   "id": "34583c9a",
   "metadata": {},
   "outputs": [],
   "source": [
    "# Object data to category\n",
    "for col in train.select_dtypes(include=['object']).columns:\n",
    "    train[col] = train[col].astype('category')\n",
    "    \n",
    "# Encoding categorical features\n",
    "for col in train.select_dtypes(include=['category']).columns:\n",
    "    train[col] = train[col].cat.codes"
   ]
  },
  {
   "cell_type": "code",
   "execution_count": 27,
   "id": "79fd4d7c",
   "metadata": {},
   "outputs": [
    {
     "data": {
      "text/html": [
       "<div>\n",
       "<style scoped>\n",
       "    .dataframe tbody tr th:only-of-type {\n",
       "        vertical-align: middle;\n",
       "    }\n",
       "\n",
       "    .dataframe tbody tr th {\n",
       "        vertical-align: top;\n",
       "    }\n",
       "\n",
       "    .dataframe thead th {\n",
       "        text-align: right;\n",
       "    }\n",
       "</style>\n",
       "<table border=\"1\" class=\"dataframe\">\n",
       "  <thead>\n",
       "    <tr style=\"text-align: right;\">\n",
       "      <th></th>\n",
       "      <th>msno</th>\n",
       "      <th>song_id</th>\n",
       "      <th>source_system_tab</th>\n",
       "      <th>source_screen_name</th>\n",
       "      <th>source_type</th>\n",
       "      <th>target</th>\n",
       "      <th>song_length</th>\n",
       "      <th>genre_ids</th>\n",
       "      <th>artist_name</th>\n",
       "      <th>composer</th>\n",
       "      <th>...</th>\n",
       "      <th>gender</th>\n",
       "      <th>registered_via</th>\n",
       "      <th>registration_init_time</th>\n",
       "      <th>expiration_date</th>\n",
       "      <th>registration_init_time_year</th>\n",
       "      <th>registration_init_time_month</th>\n",
       "      <th>registration_init_time_day</th>\n",
       "      <th>expiration_date_year</th>\n",
       "      <th>expiration_date_month</th>\n",
       "      <th>expiration_date_day</th>\n",
       "    </tr>\n",
       "  </thead>\n",
       "  <tbody>\n",
       "    <tr>\n",
       "      <th>0</th>\n",
       "      <td>17895</td>\n",
       "      <td>12070</td>\n",
       "      <td>3</td>\n",
       "      <td>7</td>\n",
       "      <td>3</td>\n",
       "      <td>0</td>\n",
       "      <td>270419</td>\n",
       "      <td>132</td>\n",
       "      <td>6091</td>\n",
       "      <td>7671</td>\n",
       "      <td>...</td>\n",
       "      <td>2</td>\n",
       "      <td>9</td>\n",
       "      <td>3573</td>\n",
       "      <td>693</td>\n",
       "      <td>2017</td>\n",
       "      <td>1</td>\n",
       "      <td>3</td>\n",
       "      <td>2017</td>\n",
       "      <td>12</td>\n",
       "      <td>31</td>\n",
       "    </tr>\n",
       "    <tr>\n",
       "      <th>1</th>\n",
       "      <td>17469</td>\n",
       "      <td>25766</td>\n",
       "      <td>3</td>\n",
       "      <td>7</td>\n",
       "      <td>3</td>\n",
       "      <td>1</td>\n",
       "      <td>247104</td>\n",
       "      <td>89</td>\n",
       "      <td>5092</td>\n",
       "      <td>9067</td>\n",
       "      <td>...</td>\n",
       "      <td>0</td>\n",
       "      <td>9</td>\n",
       "      <td>2137</td>\n",
       "      <td>555</td>\n",
       "      <td>2012</td>\n",
       "      <td>11</td>\n",
       "      <td>21</td>\n",
       "      <td>2017</td>\n",
       "      <td>8</td>\n",
       "      <td>15</td>\n",
       "    </tr>\n",
       "    <tr>\n",
       "      <th>2</th>\n",
       "      <td>17873</td>\n",
       "      <td>7165</td>\n",
       "      <td>3</td>\n",
       "      <td>10</td>\n",
       "      <td>6</td>\n",
       "      <td>0</td>\n",
       "      <td>203049</td>\n",
       "      <td>207</td>\n",
       "      <td>466</td>\n",
       "      <td>6679</td>\n",
       "      <td>...</td>\n",
       "      <td>2</td>\n",
       "      <td>9</td>\n",
       "      <td>3341</td>\n",
       "      <td>496</td>\n",
       "      <td>2016</td>\n",
       "      <td>3</td>\n",
       "      <td>12</td>\n",
       "      <td>2017</td>\n",
       "      <td>6</td>\n",
       "      <td>17</td>\n",
       "    </tr>\n",
       "    <tr>\n",
       "      <th>3</th>\n",
       "      <td>14670</td>\n",
       "      <td>13377</td>\n",
       "      <td>5</td>\n",
       "      <td>12</td>\n",
       "      <td>7</td>\n",
       "      <td>0</td>\n",
       "      <td>141479</td>\n",
       "      <td>169</td>\n",
       "      <td>2032</td>\n",
       "      <td>7671</td>\n",
       "      <td>...</td>\n",
       "      <td>1</td>\n",
       "      <td>9</td>\n",
       "      <td>2438</td>\n",
       "      <td>627</td>\n",
       "      <td>2013</td>\n",
       "      <td>9</td>\n",
       "      <td>19</td>\n",
       "      <td>2017</td>\n",
       "      <td>10</td>\n",
       "      <td>26</td>\n",
       "    </tr>\n",
       "    <tr>\n",
       "      <th>4</th>\n",
       "      <td>4173</td>\n",
       "      <td>3569</td>\n",
       "      <td>3</td>\n",
       "      <td>7</td>\n",
       "      <td>3</td>\n",
       "      <td>1</td>\n",
       "      <td>280137</td>\n",
       "      <td>207</td>\n",
       "      <td>5318</td>\n",
       "      <td>7671</td>\n",
       "      <td>...</td>\n",
       "      <td>0</td>\n",
       "      <td>13</td>\n",
       "      <td>3536</td>\n",
       "      <td>624</td>\n",
       "      <td>2016</td>\n",
       "      <td>11</td>\n",
       "      <td>27</td>\n",
       "      <td>2017</td>\n",
       "      <td>10</td>\n",
       "      <td>23</td>\n",
       "    </tr>\n",
       "  </tbody>\n",
       "</table>\n",
       "<p>5 rows × 24 columns</p>\n",
       "</div>"
      ],
      "text/plain": [
       "    msno  song_id  source_system_tab  source_screen_name  source_type  target  \\\n",
       "0  17895    12070                  3                   7            3       0   \n",
       "1  17469    25766                  3                   7            3       1   \n",
       "2  17873     7165                  3                  10            6       0   \n",
       "3  14670    13377                  5                  12            7       0   \n",
       "4   4173     3569                  3                   7            3       1   \n",
       "\n",
       "   song_length  genre_ids  artist_name  composer  ...  gender  registered_via  \\\n",
       "0       270419        132         6091      7671  ...       2               9   \n",
       "1       247104         89         5092      9067  ...       0               9   \n",
       "2       203049        207          466      6679  ...       2               9   \n",
       "3       141479        169         2032      7671  ...       1               9   \n",
       "4       280137        207         5318      7671  ...       0              13   \n",
       "\n",
       "   registration_init_time  expiration_date  registration_init_time_year  \\\n",
       "0                    3573              693                         2017   \n",
       "1                    2137              555                         2012   \n",
       "2                    3341              496                         2016   \n",
       "3                    2438              627                         2013   \n",
       "4                    3536              624                         2016   \n",
       "\n",
       "   registration_init_time_month  registration_init_time_day  \\\n",
       "0                             1                           3   \n",
       "1                            11                          21   \n",
       "2                             3                          12   \n",
       "3                             9                          19   \n",
       "4                            11                          27   \n",
       "\n",
       "   expiration_date_year  expiration_date_month  expiration_date_day  \n",
       "0                  2017                     12                   31  \n",
       "1                  2017                      8                   15  \n",
       "2                  2017                      6                   17  \n",
       "3                  2017                     10                   26  \n",
       "4                  2017                     10                   23  \n",
       "\n",
       "[5 rows x 24 columns]"
      ]
     },
     "execution_count": 27,
     "metadata": {},
     "output_type": "execute_result"
    }
   ],
   "source": [
    "train.head()"
   ]
  },
  {
   "cell_type": "markdown",
   "id": "2b854488",
   "metadata": {},
   "source": [
    "#### Checking Correlation"
   ]
  },
  {
   "cell_type": "code",
   "execution_count": 28,
   "id": "bed998c2",
   "metadata": {},
   "outputs": [
    {
     "data": {
      "image/png": "[encoded data removed]",
      "text/plain": [
       "<Figure size 720x576 with 2 Axes>"
      ]
     },
     "metadata": {},
     "output_type": "display_data"
    }
   ],
   "source": [
    "# Сorrelation matrix\n",
    "plt.figure(figsize=[10,8])\n",
    "sns.heatmap(train.corr())\n",
    "plt.show()"
   ]
  },
  {
   "cell_type": "code",
   "execution_count": 29,
   "id": "1baff7d0",
   "metadata": {},
   "outputs": [],
   "source": [
    "# Drop columns\n",
    "train = train.drop(['expiration_date', 'lyricist'], 1)"
   ]
  },
  {
   "cell_type": "code",
   "execution_count": 30,
   "id": "c77b323e",
   "metadata": {},
   "outputs": [
    {
     "data": {
      "text/plain": [
       "(73774, 22)"
      ]
     },
     "execution_count": 30,
     "metadata": {},
     "output_type": "execute_result"
    }
   ],
   "source": [
    "train.shape"
   ]
  },
  {
   "cell_type": "markdown",
   "id": "4f9025cd",
   "metadata": {},
   "source": [
    "#### 5.Building Models"
   ]
  },
  {
   "cell_type": "markdown",
   "id": "b92a226e",
   "metadata": {},
   "source": [
    "#### Random Forest\n",
    "Selected the most informative columns using Random Forest Model."
   ]
  },
  {
   "cell_type": "code",
   "execution_count": 33,
   "id": "27877e51",
   "metadata": {},
   "outputs": [],
   "source": [
    "train1=train.copy()"
   ]
  },
  {
   "cell_type": "code",
   "execution_count": 35,
   "id": "b66a8e2e",
   "metadata": {},
   "outputs": [],
   "source": [
    "X_train=train1.drop(['target'],axis=1).values\n",
    "Y_train=train1['target'].values"
   ]
  },
  {
   "cell_type": "code",
   "execution_count": 36,
   "id": "c43d11bf",
   "metadata": {},
   "outputs": [
    {
     "data": {
      "text/plain": [
       "(73774, 21)"
      ]
     },
     "execution_count": 36,
     "metadata": {},
     "output_type": "execute_result"
    }
   ],
   "source": [
    "X_train.shape"
   ]
  },
  {
   "cell_type": "code",
   "execution_count": 40,
   "id": "1e7182e6",
   "metadata": {},
   "outputs": [
    {
     "data": {
      "text/plain": [
       "(73774,)"
      ]
     },
     "execution_count": 40,
     "metadata": {},
     "output_type": "execute_result"
    }
   ],
   "source": [
    "Y_train.shape"
   ]
  },
  {
   "cell_type": "code",
   "execution_count": 37,
   "id": "737df6c8",
   "metadata": {},
   "outputs": [],
   "source": [
    "x_train,x_test,y_train,y_test=train_test_split(X_train,Y_train,test_size=0.25)"
   ]
  },
  {
   "cell_type": "code",
   "execution_count": 41,
   "id": "891bc457",
   "metadata": {},
   "outputs": [
    {
     "data": {
      "text/plain": [
       "RandomForestClassifier(max_depth=25, n_estimators=250, random_state=0)"
      ]
     },
     "execution_count": 41,
     "metadata": {},
     "output_type": "execute_result"
    }
   ],
   "source": [
    "from sklearn.ensemble import RandomForestClassifier\n",
    "clf = RandomForestClassifier(n_estimators=250, max_depth=25, random_state=0)\n",
    "clf.fit(X_train,Y_train)\n",
    "#y_pred = clf.predict(X_test)\n",
    "#print(\"Confusion Matrix : \\n \",confusion_matrix(y_test, y_pred))\n",
    "#print(\"\\n Accuracy Score : \\n \",accuracy_score(y_test,y_pred))\n",
    "#print(\"\\n Classification Report : \\n\",classification_report(y_test, y_pred))"
   ]
  },
  {
   "cell_type": "code",
   "execution_count": 43,
   "id": "59e95a98",
   "metadata": {},
   "outputs": [],
   "source": [
    "train_plot = pd.DataFrame({'features': train.columns[train.columns != 'target'],\n",
    "                        'importances': clf.feature_importances_})\n",
    "train_plot = train_plot.sort_values('importances', ascending=False)"
   ]
  },
  {
   "cell_type": "code",
   "execution_count": 44,
   "id": "46663bc6",
   "metadata": {},
   "outputs": [
    {
     "data": {
      "image/png": "[encoded data removed]",
      "text/plain": [
       "<Figure size 792x360 with 1 Axes>"
      ]
     },
     "metadata": {},
     "output_type": "display_data"
    }
   ],
   "source": [
    "plt.figure(figsize=[11,5])\n",
    "sns.barplot(x = train_plot.importances, y = train_plot.features)\n",
    "plt.title('Importances of Features Plot')\n",
    "plt.show()"
   ]
  },
  {
   "cell_type": "code",
   "execution_count": 45,
   "id": "530b6660",
   "metadata": {},
   "outputs": [],
   "source": [
    "train2=train.copy()"
   ]
  },
  {
   "cell_type": "code",
   "execution_count": 46,
   "id": "84bfc4b7",
   "metadata": {},
   "outputs": [],
   "source": [
    "# Drop columns with importances < 0.04\n",
    "train2 = train2.drop(train_plot.features[train_plot.importances < 0.04].tolist(), 1)"
   ]
  },
  {
   "cell_type": "code",
   "execution_count": 47,
   "id": "2b1b764f",
   "metadata": {},
   "outputs": [
    {
     "data": {
      "text/plain": [
       "Index(['msno', 'song_id', 'source_screen_name', 'source_type', 'target',\n",
       "       'song_length', 'artist_name', 'composer', 'bd',\n",
       "       'registration_init_time', 'registration_init_time_month',\n",
       "       'registration_init_time_day', 'expiration_date_day'],\n",
       "      dtype='object')"
      ]
     },
     "execution_count": 47,
     "metadata": {},
     "output_type": "execute_result"
    }
   ],
   "source": [
    "# Selected columns\n",
    "train2.columns"
   ]
  },
  {
   "cell_type": "markdown",
   "id": "df8a3034",
   "metadata": {},
   "source": [
    "### XGboost"
   ]
  },
  {
   "cell_type": "code",
   "execution_count": 48,
   "id": "53996d52",
   "metadata": {},
   "outputs": [],
   "source": [
    "# Train & Test split\n",
    "train3=train.copy()\n"
   ]
  },
  {
   "cell_type": "code",
   "execution_count": 49,
   "id": "e8ebbfe9",
   "metadata": {},
   "outputs": [],
   "source": [
    "X_train1=train3.drop(['target'],axis=1).values\n",
    "Y_train1=train3['target'].values"
   ]
  },
  {
   "cell_type": "code",
   "execution_count": 50,
   "id": "64415923",
   "metadata": {},
   "outputs": [],
   "source": [
    "x_train,x_test,y_train,y_test=train_test_split(X_train1,Y_train1,test_size=0.25)"
   ]
  },
  {
   "cell_type": "code",
   "execution_count": 51,
   "id": "c3596b10",
   "metadata": {},
   "outputs": [
    {
     "name": "stdout",
     "output_type": "stream",
     "text": [
      "[23:37:18] WARNING: C:/Users/Administrator/workspace/xgboost-win64_release_1.4.0/src/learner.cc:1095: Starting in XGBoost 1.3.0, the default evaluation metric used with the objective 'binary:logistic' was changed from 'error' to 'logloss'. Explicitly set eval_metric if you'd like to restore the old behavior.\n"
     ]
    },
    {
     "data": {
      "text/plain": [
       "XGBClassifier(base_score=0.5, booster='gbtree', colsample_bylevel=1,\n",
       "              colsample_bynode=1, colsample_bytree=1, gamma=0, gpu_id=-1,\n",
       "              importance_type='gain', interaction_constraints='',\n",
       "              learning_rate=0.1, max_delta_step=0, max_depth=15,\n",
       "              min_child_weight=5, missing=nan, monotone_constraints='()',\n",
       "              n_estimators=250, n_jobs=4, num_parallel_tree=1, random_state=0,\n",
       "              reg_alpha=0, reg_lambda=1, scale_pos_weight=1, subsample=1,\n",
       "              tree_method='exact', validate_parameters=1, verbosity=None)"
      ]
     },
     "execution_count": 51,
     "metadata": {},
     "output_type": "execute_result"
    }
   ],
   "source": [
    "# Create model\n",
    "model2 = xgb.XGBClassifier(learning_rate=0.1, max_depth=15, min_child_weight=5, n_estimators=250)\n",
    "model2.fit(X_train1, Y_train1)"
   ]
  },
  {
   "cell_type": "code",
   "execution_count": 54,
   "id": "dc0f7cdf",
   "metadata": {},
   "outputs": [
    {
     "data": {
      "text/plain": [
       "(73774, 21)"
      ]
     },
     "execution_count": 54,
     "metadata": {},
     "output_type": "execute_result"
    }
   ],
   "source": [
    "X_train1.shape"
   ]
  },
  {
   "cell_type": "code",
   "execution_count": 55,
   "id": "e3d54c50",
   "metadata": {},
   "outputs": [],
   "source": [
    "# Predicting\n",
    "Prediction = model2.predict(x_test)"
   ]
  },
  {
   "cell_type": "code",
   "execution_count": 60,
   "id": "f369171c",
   "metadata": {},
   "outputs": [],
   "source": [
    "from sklearn import metrics"
   ]
  },
  {
   "cell_type": "code",
   "execution_count": 62,
   "id": "6596d744",
   "metadata": {},
   "outputs": [
    {
     "name": "stdout",
     "output_type": "stream",
     "text": [
      "              precision    recall  f1-score   support\n",
      "\n",
      "           0       0.99      0.96      0.97      9048\n",
      "           1       0.96      0.99      0.97      9396\n",
      "\n",
      "    accuracy                           0.97     18444\n",
      "   macro avg       0.97      0.97      0.97     18444\n",
      "weighted avg       0.97      0.97      0.97     18444\n",
      "\n"
     ]
    }
   ],
   "source": [
    "print(metrics.classification_report(y_test, Prediction))"
   ]
  },
  {
   "cell_type": "markdown",
   "id": "f3491613",
   "metadata": {},
   "source": [
    "### Inference:\n",
    "Here we are getting very high accuracy of 97% using XGBoost Model"
   ]
  },
  {
   "cell_type": "code",
   "execution_count": null,
   "id": "6510b900",
   "metadata": {},
   "outputs": [],
   "source": []
  }
 ],
 "metadata": {
  "kernelspec": {
   "display_name": "Python 3",
   "language": "python",
   "name": "python3"
  },
  "language_info": {
   "codemirror_mode": {
    "name": "ipython",
    "version": 3
   },
   "file_extension": ".py",
   "mimetype": "text/x-python",
   "name": "python",
   "nbconvert_exporter": "python",
   "pygments_lexer": "ipython3",
   "version": "3.8.8"
  }
 },
 "nbformat": 4,
 "nbformat_minor": 5
}
